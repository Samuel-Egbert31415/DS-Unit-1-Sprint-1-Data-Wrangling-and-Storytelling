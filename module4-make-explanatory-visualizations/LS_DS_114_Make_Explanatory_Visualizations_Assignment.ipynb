{
  "nbformat": 4,
  "nbformat_minor": 0,
  "metadata": {
    "colab": {
      "name": "LS_DS_114_Make_Explanatory_Visualizations_Assignment.ipynb",
      "provenance": [],
      "collapsed_sections": []
    },
    "language_info": {
      "codemirror_mode": {
        "name": "ipython",
        "version": 3
      },
      "file_extension": ".py",
      "mimetype": "text/x-python",
      "name": "python",
      "nbconvert_exporter": "python",
      "pygments_lexer": "ipython3",
      "version": "3.7.1"
    },
    "kernelspec": {
      "display_name": "Python 3",
      "language": "python",
      "name": "python3"
    }
  },
  "cells": [
    {
      "cell_type": "markdown",
      "metadata": {
        "id": "-8-trVo__vRE"
      },
      "source": [
        "Lambda School Data Science\n",
        "\n",
        "*Unit 1, Sprint 1, Module 4*\n",
        "\n",
        "---\n",
        "\n",
        "# Make Explanatory Visualizations\n",
        "\n",
        "### Objectives\n",
        "\n",
        "- Student can identify the appropriate visualization type for a particular variable type and research question \n",
        "- Student can use Matplotlib to visualize distributions and relationships with continuous and discrete variables\n",
        "- Student can add emphasis and annotations to transform visualizations from exploratory to explanatory\n",
        "- Student can remove clutter from visualizations\n",
        "- Student can identify misleading visualizations and how to fix them\n",
        "\n"
      ]
    },
    {
      "cell_type": "markdown",
      "metadata": {
        "id": "8LPohEc5sv7J"
      },
      "source": [
        "Import the Titanic dataset and print the first 5 rows."
      ]
    },
    {
      "cell_type": "code",
      "metadata": {
        "id": "ihNRKzhzs7_C",
        "colab": {
          "base_uri": "https://localhost:8080/",
          "height": 204
        },
        "outputId": "afeaf37c-346b-4bd7-dac1-95320d4f528d"
      },
      "source": [
        "\n",
        "import pandas as pd\n",
        "\n",
        "# Load the Titanic dataset from its URL:\n",
        "Titanic = pd.read_csv('https://raw.githubusercontent.com/LambdaSchool/data-science-practice-datasets/main/unit_1/Titanic/Titanic.csv')\n",
        "\n",
        "Titanic.head()"
      ],
      "execution_count": 1,
      "outputs": [
        {
          "output_type": "execute_result",
          "data": {
            "text/html": [
              "<div>\n",
              "<style scoped>\n",
              "    .dataframe tbody tr th:only-of-type {\n",
              "        vertical-align: middle;\n",
              "    }\n",
              "\n",
              "    .dataframe tbody tr th {\n",
              "        vertical-align: top;\n",
              "    }\n",
              "\n",
              "    .dataframe thead th {\n",
              "        text-align: right;\n",
              "    }\n",
              "</style>\n",
              "<table border=\"1\" class=\"dataframe\">\n",
              "  <thead>\n",
              "    <tr style=\"text-align: right;\">\n",
              "      <th></th>\n",
              "      <th>Survived</th>\n",
              "      <th>Pclass</th>\n",
              "      <th>Name</th>\n",
              "      <th>Sex</th>\n",
              "      <th>Age</th>\n",
              "      <th>Siblings/Spouses_Aboard</th>\n",
              "      <th>Parents/Children_Aboard</th>\n",
              "      <th>Fare</th>\n",
              "    </tr>\n",
              "  </thead>\n",
              "  <tbody>\n",
              "    <tr>\n",
              "      <th>0</th>\n",
              "      <td>0</td>\n",
              "      <td>3</td>\n",
              "      <td>Mr. Owen Harris Braund</td>\n",
              "      <td>male</td>\n",
              "      <td>22.0</td>\n",
              "      <td>1</td>\n",
              "      <td>0</td>\n",
              "      <td>7.2500</td>\n",
              "    </tr>\n",
              "    <tr>\n",
              "      <th>1</th>\n",
              "      <td>1</td>\n",
              "      <td>1</td>\n",
              "      <td>Mrs. John Bradley (Florence Briggs Thayer) Cum...</td>\n",
              "      <td>female</td>\n",
              "      <td>38.0</td>\n",
              "      <td>1</td>\n",
              "      <td>0</td>\n",
              "      <td>71.2833</td>\n",
              "    </tr>\n",
              "    <tr>\n",
              "      <th>2</th>\n",
              "      <td>1</td>\n",
              "      <td>3</td>\n",
              "      <td>Miss. Laina Heikkinen</td>\n",
              "      <td>female</td>\n",
              "      <td>26.0</td>\n",
              "      <td>0</td>\n",
              "      <td>0</td>\n",
              "      <td>7.9250</td>\n",
              "    </tr>\n",
              "    <tr>\n",
              "      <th>3</th>\n",
              "      <td>1</td>\n",
              "      <td>1</td>\n",
              "      <td>Mrs. Jacques Heath (Lily May Peel) Futrelle</td>\n",
              "      <td>female</td>\n",
              "      <td>35.0</td>\n",
              "      <td>1</td>\n",
              "      <td>0</td>\n",
              "      <td>53.1000</td>\n",
              "    </tr>\n",
              "    <tr>\n",
              "      <th>4</th>\n",
              "      <td>0</td>\n",
              "      <td>3</td>\n",
              "      <td>Mr. William Henry Allen</td>\n",
              "      <td>male</td>\n",
              "      <td>35.0</td>\n",
              "      <td>0</td>\n",
              "      <td>0</td>\n",
              "      <td>8.0500</td>\n",
              "    </tr>\n",
              "  </tbody>\n",
              "</table>\n",
              "</div>"
            ],
            "text/plain": [
              "   Survived  Pclass  ... Parents/Children_Aboard     Fare\n",
              "0         0       3  ...                       0   7.2500\n",
              "1         1       1  ...                       0  71.2833\n",
              "2         1       3  ...                       0   7.9250\n",
              "3         1       1  ...                       0  53.1000\n",
              "4         0       3  ...                       0   8.0500\n",
              "\n",
              "[5 rows x 8 columns]"
            ]
          },
          "metadata": {
            "tags": []
          },
          "execution_count": 1
        }
      ]
    },
    {
      "cell_type": "code",
      "metadata": {
        "id": "FMIVZiuf90qw"
      },
      "source": [
        ""
      ],
      "execution_count": 7,
      "outputs": []
    },
    {
      "cell_type": "markdown",
      "metadata": {
        "id": "R03kMCWNumQQ"
      },
      "source": [
        "###1) What are the appropriate visualizations to answer the question \"What was the typical fare paid for passage on the Titanic?\"\n",
        "\n"
      ]
    },
    {
      "cell_type": "markdown",
      "metadata": {
        "id": "zuT6F0hpVbsG"
      },
      "source": [
        "I would say a histogram,scatter, or even a boxplot"
      ]
    },
    {
      "cell_type": "markdown",
      "metadata": {
        "id": "JnHwnp5BVe6r"
      },
      "source": [
        "###2) Create the visualizations you selected in 2).  "
      ]
    },
    {
      "cell_type": "code",
      "metadata": {
        "id": "4H948LYYwa0p",
        "colab": {
          "base_uri": "https://localhost:8080/",
          "height": 573
        },
        "outputId": "9a856841-d92d-4b5e-8e32-d4f7b3299271"
      },
      "source": [
        "import numpy as np\n",
        "import matplotlib.pyplot as plt\n",
        "plt.hist(Titanic['Fare'], bins = 40)\n",
        "\n",
        "plt.xlabel('Fare(Dollars?)')\n",
        "plt.ylabel('Frequency')\n",
        "plt.title('Fare Distribution')\n",
        "\n",
        "plt.show()\n",
        "\n",
        "plt.boxplot(Titanic['Fare'], vert=False, autorange=(0,20))\n",
        "plt.xlabel('Fare(Dollars?)')\n",
        "plt.title('Distribution of Fares paid to board Titanic')\n",
        "plt.xlim(0, 75)\n",
        "plt.show()\n"
      ],
      "execution_count": 23,
      "outputs": [
        {
          "output_type": "display_data",
          "data": {
            "image/png": "[encoded data removed]",
            "text/plain": [
              "<Figure size 432x288 with 1 Axes>"
            ]
          },
          "metadata": {
            "tags": [],
            "needs_background": "light"
          }
        },
        {
          "output_type": "display_data",
          "data": {
            "image/png": "[encoded data removed]",
            "text/plain": [
              "<Figure size 432x288 with 1 Axes>"
            ]
          },
          "metadata": {
            "tags": [],
            "needs_background": "light"
          }
        }
      ]
    },
    {
      "cell_type": "markdown",
      "metadata": {
        "id": "1M4_OYgp00pA"
      },
      "source": [
        "###3) Describe your results in a sentence or two."
      ]
    },
    {
      "cell_type": "markdown",
      "metadata": {
        "id": "bXtZ3QkIWAGQ"
      },
      "source": [
        "Most of the Fares were at about $12, with some paying much more\n"
      ]
    },
    {
      "cell_type": "markdown",
      "metadata": {
        "id": "59jSon6C1MG2"
      },
      "source": [
        "###4) Plot a histogram of fare paid by Titanic passengers by sex to see if there was a difference in fare paid between male and female passengers.  "
      ]
    },
    {
      "cell_type": "code",
      "metadata": {
        "id": "6mvEpMhU3Rcl",
        "colab": {
          "base_uri": "https://localhost:8080/",
          "height": 295
        },
        "outputId": "70f6d955-ae4e-4af4-9a4b-0ae96166cd0d"
      },
      "source": [
        "Titanic_Male = Titanic[Titanic['Sex']=='male']\n",
        "Titanic_Female = Titanic[Titanic['Sex']=='female']\n",
        "\n",
        "plt.hist(Titanic_Male['Fare'], label='Male Passengers', bins = 40)\n",
        "plt.hist(Titanic_Female['Fare'], label='Female Passengers', bins = 40)\n",
        "\n",
        "plt.xlabel('Fare')\n",
        "plt.ylabel('Frequency')\n",
        "plt.title('Fare distribution among Male/Females on Titanic')\n",
        "plt.legend(loc='upper right')\n",
        "\n",
        "plt.show()"
      ],
      "execution_count": 27,
      "outputs": [
        {
          "output_type": "display_data",
          "data": {
            "image/png": "[encoded data removed]",
            "text/plain": [
              "<Figure size 432x288 with 1 Axes>"
            ]
          },
          "metadata": {
            "tags": [],
            "needs_background": "light"
          }
        }
      ]
    },
    {
      "cell_type": "markdown",
      "metadata": {
        "id": "dpVOCB7HWmae"
      },
      "source": [
        "###5) Describe the difference in distribution of fare paid between male and female passengers."
      ]
    },
    {
      "cell_type": "markdown",
      "metadata": {
        "id": "UnB3VZxo4uHT"
      },
      "source": [
        "They seemed to pay about the same, perhaps Femals paid more, especially around the $150 mark, but only a statistical test could tell"
      ]
    },
    {
      "cell_type": "markdown",
      "metadata": {
        "id": "GAKb2bwr5I6l"
      },
      "source": [
        "###6) Make a bar plot to show the frequency of individuals in each passenger class."
      ]
    },
    {
      "cell_type": "code",
      "metadata": {
        "id": "m1k7VXz24W-X"
      },
      "source": [
        ""
      ],
      "execution_count": null,
      "outputs": []
    },
    {
      "cell_type": "code",
      "metadata": {
        "id": "R3xU-DCK5PRj",
        "colab": {
          "base_uri": "https://localhost:8080/",
          "height": 295
        },
        "outputId": "df7663c6-41c0-4ba5-c495-cdec2e59a55b"
      },
      "source": [
        "summed_Pclasses = pd.crosstab(index=Titanic['Pclass'], columns='count')\n",
        "summed_Pclasses = pd.DataFrame({'Pclass':['Pclass1', 'Pclass2','Pclass3'], 'count':[216,184,487]})\n",
        "summed_Pclasses\n",
        "\n",
        "ax = summed_Pclasses.plot.bar(x='Pclass', y='count',rot=0)\n",
        "\n",
        "plt.xlabel('Passenger Pclass')\n",
        "plt.ylabel('Number of Passengers')\n",
        "plt.title('Passenger Pclass on Titanic')\n",
        "\n",
        "# ax.get_legend().remove()\n",
        "\n",
        "plt.show()"
      ],
      "execution_count": 44,
      "outputs": [
        {
          "output_type": "display_data",
          "data": {
            "image/png": "[encoded data removed]",
            "text/plain": [
              "<Figure size 432x288 with 1 Axes>"
            ]
          },
          "metadata": {
            "tags": [],
            "needs_background": "light"
          }
        }
      ]
    },
    {
      "cell_type": "markdown",
      "metadata": {
        "id": "MbSsjvfTXTPz"
      },
      "source": [
        "###7) Summarize your results from 6)"
      ]
    },
    {
      "cell_type": "markdown",
      "metadata": {
        "id": "wNVCsFFtXZhI"
      },
      "source": [
        "Answer here"
      ]
    },
    {
      "cell_type": "markdown",
      "metadata": {
        "id": "zl0yUdzWXgUz"
      },
      "source": [
        "###8) Create a graphical summary for the number of parents/ children on board for each passenger."
      ]
    },
    {
      "cell_type": "code",
      "metadata": {
        "id": "K18MnbPUX4gV"
      },
      "source": [
        "### YOUR CODE HERE "
      ],
      "execution_count": null,
      "outputs": []
    },
    {
      "cell_type": "markdown",
      "metadata": {
        "id": "jxo8trtyYL2I"
      },
      "source": [
        "###9) Summarize your results from 8).  Did most individuals travel alone or with family?"
      ]
    },
    {
      "cell_type": "markdown",
      "metadata": {
        "id": "10pB7v8wYVit"
      },
      "source": [
        "Answer here"
      ]
    },
    {
      "cell_type": "markdown",
      "metadata": {
        "id": "gmRDTa8ucXnV"
      },
      "source": [
        "#Project Milestone\n",
        "\n",
        "Take some time to explore the links below.  Think about how we use graphics to answer research questions and how looking at visualizations can help us develop new lines of enquiry.  \n",
        "\n",
        "By the end of the weekend, you should have a pretty good idea (though it can change!) what kind of data and visualizations you'd like to include in your Portfolio Project.\n",
        "\n",
        "### Links\n",
        "\n",
        "- [How to Spot Visualization Lies](https://flowingdata.com/2017/02/09/how-to-spot-visualization-lies/)\n",
        "- [Visual Vocabulary - Vega Edition](http://ft.com/vocabulary)\n",
        "- [Choosing a Python Visualization Tool flowchart](http://pbpython.com/python-vis-flowchart.html)\n",
        "- [Searborn example gallery](http://seaborn.pydata.org/examples/index.html) & [tutorial](http://seaborn.pydata.org/tutorial.html)\n",
        "- [Strong Titles Are The Biggest Bang for Your Buck](http://stephanieevergreen.com/strong-titles/)\n",
        "- [Remove to improve (the data-ink ratio)](https://www.darkhorseanalytics.com/blog/data-looks-better-naked)\n",
        "- [How to Generate FiveThirtyEight Graphs in Python](https://www.dataquest.io/blog/making-538-plots/)"
      ]
    }
  ]
}