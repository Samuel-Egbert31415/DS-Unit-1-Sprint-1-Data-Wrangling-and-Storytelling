{
  "nbformat": 4,
  "nbformat_minor": 0,
  "metadata": {
    "colab": {
      "name": "LS_DS_132_Inference_For_Regression_Assignment_Samuel_Egbert_AG.ipynb",
      "provenance": [],
      "collapsed_sections": [],
      "include_colab_link": true
    },
    "kernelspec": {
      "display_name": "Python 3",
      "language": "python",
      "name": "python3"
    },
    "language_info": {
      "codemirror_mode": {
        "name": "ipython",
        "version": 3
      },
      "file_extension": ".py",
      "mimetype": "text/x-python",
      "name": "python",
      "nbconvert_exporter": "python",
      "pygments_lexer": "ipython3",
      "version": "3.7.4"
    }
  },
  "cells": [
    {
      "cell_type": "markdown",
      "metadata": {
        "id": "view-in-github",
        "colab_type": "text"
      },
      "source": [
        "<a href=\"https://colab.research.google.com/github/Samuel-Egbert31415/DS-Unit-1-Sprint-1-Data-Wrangling-and-Storytelling/blob/master/LS_DS_132_Inference_For_Regression_Assignment_Samuel_Egbert_AG.ipynb\" target=\"_parent\"><img src=\"https://colab.research.google.com/assets/colab-badge.svg\" alt=\"Open In Colab\"/></a>"
      ]
    },
    {
      "cell_type": "markdown",
      "metadata": {
        "id": "-aiiZN7DVJ6c"
      },
      "source": [
        "## Autograded Notebook (Canvas & CodeGrade)\n",
        "\n",
        "This notebook will be automatically graded. It is designed to test your answers and award points for the correct answers. Following the instructions for each Task carefully.\n",
        "\n",
        "### Instructions\n",
        "\n",
        "* **Download this notebook** as you would any other ipynb file\n",
        "* **Upload** to Google Colab or work locally (if you have that set-up)\n",
        "* **Delete `raise NotImplementedError()`**\n",
        "* Write your code in the `# YOUR CODE HERE` space\n",
        "* **Execute** the Test cells that contain `assert` statements - these help you check your work (others contain hidden tests that will be checked when you submit through Canvas)\n",
        "* **Save** your notebook when you are finished\n",
        "* **Download** as a `ipynb` file (if working in Colab)\n",
        "* **Upload** your complete notebook to Canvas (there will be additional instructions in Slack and/or Canvas)"
      ]
    },
    {
      "cell_type": "markdown",
      "metadata": {
        "id": "RQw2GTc8oDRw"
      },
      "source": [
        "# Lambda School Data Science - Unit 1 Sprint 3 Module 2\n",
        "\n",
        "## Module Project: Inference for Linear Regression\n",
        "\n",
        "### Learning Objectives\n",
        "\n",
        "* identify the appropriate hypotheses to test for a statistically significant relationship between two quantitative variables\n",
        "* conduct and interpret a t-test for the slope parameter\n",
        "* identify the appropriate parts of the output of a linear regression model and use them to build a confidence interval for the slope term.\n",
        "* make the connection between the t-test for a population mean and a t-test for a slope coefficient.\n",
        "* identify violations of the assumptions for linear regression"
      ]
    },
    {
      "cell_type": "markdown",
      "metadata": {
        "id": "MHWnltybtm8_"
      },
      "source": [
        "## Introduction\n",
        "\n",
        "### Statistical significance between head size and brain weight in healthy adult humans\n",
        "\n",
        "The `Brainhead.csv` dataset provides information on 237 individuals who were subject to post-mortem examination at the Middlesex Hospital in London around the turn of the 20th century. Study authors used cadavers to see if a relationship between brain weight and other more easily measured physiological characterizes such as age, sex, and head size could be determined. \n",
        "\n",
        "The end goal was to develop a way to estimate a person’s brain size while they were still alive (as the living aren’t keen on having their brains taken out and weighed).\n",
        "\n",
        "**We wish to determine if there is a linear relationship between head size and brain weight in healthy human adults.**\n",
        "\n",
        "Source: R.J. Gladstone (1905). \"A Study of the Relations of the Brain to the Size of the Head\", Biometrika, Vol. 4, pp105-123.\n",
        "\n",
        "\n",
        "**Use the above information to complete Tasks 1 - 10.**"
      ]
    },
    {
      "cell_type": "markdown",
      "metadata": {
        "id": "VoVBnlaaQHqw"
      },
      "source": [
        "### Warmup Questions\n",
        "\n",
        "Recall from the Module 1 Project that we were working with the brain weight variable (`Brain`) and the head size (`Head`) variables. We identified the dependent and independent variables, plotted our variables on the appropriate axes, and then described the strength of the relationship.\n",
        "\n",
        "* `Brain` (brain weight in g) - **dependent** variable (y)\n",
        "* `Head` (the head size in cubic cm - **independent** variable (x)\n",
        "\n",
        "Now, we're going to bring back some statistics from Sprint 2 and look at the statistical association between head size and brain weight.\n",
        "\n",
        "First, some warmup questions! These are not autograded but are part of completing the project."
      ]
    },
    {
      "cell_type": "markdown",
      "metadata": {
        "id": "s5AsLaQitiEX"
      },
      "source": [
        "**Warmup Q1** - What type of statistical test will we use to determine if there is a statistically significant association between head size and brain weight in the population?\n",
        "\n",
        "Chi-Squared test\n",
        "\n",
        "\n",
        "**Warmup Q2** - Write the null and alternative hypotheses you would use to test for a statistically significant association between head size and brain weight.\n",
        "\n",
        "H$_0$: head size and brain weight don't have a non-random correlation with each other\n",
        "\n",
        "H$_a$: head size and brain weight do have a non-random correlation with each other\n",
        "\n"
      ]
    },
    {
      "cell_type": "markdown",
      "metadata": {
        "id": "AgV4yAKHVJ6j"
      },
      "source": [
        "**Task 1** - Load the data\n",
        "\n",
        "As we usually begin, let's load the data! The URL has been provided.\n",
        "\n",
        "* load your CSV file into a DataFrame named `df`"
      ]
    },
    {
      "cell_type": "code",
      "metadata": {
        "id": "-LR1PYICV1BJ"
      },
      "source": [
        ""
      ],
      "execution_count": null,
      "outputs": []
    },
    {
      "cell_type": "code",
      "metadata": {
        "colab": {
          "base_uri": "https://localhost:8080/",
          "height": 195
        },
        "deletable": false,
        "id": "0NKz1DvXQHqq",
        "nbgrader": {
          "cell_type": "code",
          "checksum": "a1bba06bcfeb3cf82ee9d1da90886250",
          "grade": false,
          "grade_id": "cell-dce60d72fa032dbb",
          "locked": false,
          "schema_version": 3,
          "solution": true,
          "task": false
        },
        "outputId": "5cc22c08-d7a1-48e5-a9d6-171b17eac0ed"
      },
      "source": [
        "# Task 1\n",
        "\n",
        "# Imports\n",
        "import pandas as pd\n",
        "import numpy as np\n",
        "\n",
        "data_url = 'https://raw.githubusercontent.com/LambdaSchool/data-science-practice-datasets/main/unit_1/Brainhead/Brainhead.csv'\n",
        "\n",
        "df = pd.read_csv(data_url)\n",
        "\n",
        "# Print out your DataFrame\n",
        "df.head()"
      ],
      "execution_count": 1,
      "outputs": [
        {
          "output_type": "execute_result",
          "data": {
            "text/html": [
              "<div>\n",
              "<style scoped>\n",
              "    .dataframe tbody tr th:only-of-type {\n",
              "        vertical-align: middle;\n",
              "    }\n",
              "\n",
              "    .dataframe tbody tr th {\n",
              "        vertical-align: top;\n",
              "    }\n",
              "\n",
              "    .dataframe thead th {\n",
              "        text-align: right;\n",
              "    }\n",
              "</style>\n",
              "<table border=\"1\" class=\"dataframe\">\n",
              "  <thead>\n",
              "    <tr style=\"text-align: right;\">\n",
              "      <th></th>\n",
              "      <th>Gender</th>\n",
              "      <th>Age</th>\n",
              "      <th>Head</th>\n",
              "      <th>Brain</th>\n",
              "    </tr>\n",
              "  </thead>\n",
              "  <tbody>\n",
              "    <tr>\n",
              "      <th>0</th>\n",
              "      <td>1</td>\n",
              "      <td>1</td>\n",
              "      <td>4512</td>\n",
              "      <td>1530</td>\n",
              "    </tr>\n",
              "    <tr>\n",
              "      <th>1</th>\n",
              "      <td>1</td>\n",
              "      <td>1</td>\n",
              "      <td>3738</td>\n",
              "      <td>1297</td>\n",
              "    </tr>\n",
              "    <tr>\n",
              "      <th>2</th>\n",
              "      <td>1</td>\n",
              "      <td>1</td>\n",
              "      <td>4261</td>\n",
              "      <td>1335</td>\n",
              "    </tr>\n",
              "    <tr>\n",
              "      <th>3</th>\n",
              "      <td>1</td>\n",
              "      <td>1</td>\n",
              "      <td>3777</td>\n",
              "      <td>1282</td>\n",
              "    </tr>\n",
              "    <tr>\n",
              "      <th>4</th>\n",
              "      <td>1</td>\n",
              "      <td>1</td>\n",
              "      <td>4177</td>\n",
              "      <td>1590</td>\n",
              "    </tr>\n",
              "  </tbody>\n",
              "</table>\n",
              "</div>"
            ],
            "text/plain": [
              "   Gender  Age  Head  Brain\n",
              "0       1    1  4512   1530\n",
              "1       1    1  3738   1297\n",
              "2       1    1  4261   1335\n",
              "3       1    1  3777   1282\n",
              "4       1    1  4177   1590"
            ]
          },
          "metadata": {
            "tags": []
          },
          "execution_count": 1
        }
      ]
    },
    {
      "cell_type": "code",
      "metadata": {
        "deletable": false,
        "editable": false,
        "nbgrader": {
          "cell_type": "code",
          "checksum": "50e67d90874547e947859c6c4fafef4a",
          "grade": true,
          "grade_id": "cell-d4edaaeebedaf8ff",
          "locked": true,
          "points": 1,
          "schema_version": 3,
          "solution": false,
          "task": false
        },
        "id": "5Cij7gdsVJ6k"
      },
      "source": [
        "# Task 1 - Test\n",
        "\n",
        "assert isinstance(df, pd.DataFrame), 'Have you created a DataFrame named `df`?'\n",
        "assert len(df) == 237\n"
      ],
      "execution_count": 2,
      "outputs": []
    },
    {
      "cell_type": "markdown",
      "metadata": {
        "id": "UIqgn0THlinM"
      },
      "source": [
        "**Task 2** - Fit OLS model\n",
        "\n",
        "Now, we're going to fit a regression model to our two variables. We're going to use `statsmodels.formula.api` and import the `ols` model. This import has been provided for you.\n",
        "\n",
        "* Fit a model and name your variable `model`\n",
        "* Using the `model.params[1]` method, assign the slope to the variable `slope`. Your variable should be a float (`numpy.float64`).\n",
        "* Using the same `model.params[0]` method, assign the intercept to the variable `intercept`. Your variable should be a float (`numpy.float64`).\n",
        "* Print out your model summary.\n",
        "\n",
        "*Hint: Make sure to use the format Y ~ X for the model input.*"
      ]
    },
    {
      "cell_type": "code",
      "metadata": {
        "colab": {
          "base_uri": "https://localhost:8080/"
        },
        "deletable": false,
        "id": "wX7UBNNBRMtr",
        "nbgrader": {
          "cell_type": "code",
          "checksum": "7775e8c187990105ee27767381e5b350",
          "grade": false,
          "grade_id": "cell-e9560546a99c90ac",
          "locked": false,
          "schema_version": 3,
          "solution": true,
          "task": false
        },
        "outputId": "bb803dc3-22d6-48ba-add8-19eca5c4c232"
      },
      "source": [
        "# Task 2\n",
        "\n",
        "# Import statsmodels - DON'T Delete\n",
        "from statsmodels.formula.api import ols\n",
        "\n",
        "# Set-up and fit the model in one step\n",
        "# (format Y ~ X)\n",
        "\n",
        "model = ols('Brain ~ Head', data=df).fit()\n",
        "\n",
        "print(model.summary())\n",
        "\n",
        "slope = model.params[1]\n",
        "intercept = model.params[0]"
      ],
      "execution_count": 4,
      "outputs": [
        {
          "output_type": "stream",
          "text": [
            "                            OLS Regression Results                            \n",
            "==============================================================================\n",
            "Dep. Variable:                  Brain   R-squared:                       0.639\n",
            "Model:                            OLS   Adj. R-squared:                  0.638\n",
            "Method:                 Least Squares   F-statistic:                     416.5\n",
            "Date:                Tue, 15 Dec 2020   Prob (F-statistic):           5.96e-54\n",
            "Time:                        21:43:37   Log-Likelihood:                -1350.3\n",
            "No. Observations:                 237   AIC:                             2705.\n",
            "Df Residuals:                     235   BIC:                             2711.\n",
            "Df Model:                           1                                         \n",
            "Covariance Type:            nonrobust                                         \n",
            "==============================================================================\n",
            "                 coef    std err          t      P>|t|      [0.025      0.975]\n",
            "------------------------------------------------------------------------------\n",
            "Intercept    325.5734     47.141      6.906      0.000     232.701     418.446\n",
            "Head           0.2634      0.013     20.409      0.000       0.238       0.289\n",
            "==============================================================================\n",
            "Omnibus:                        8.329   Durbin-Watson:                   1.843\n",
            "Prob(Omnibus):                  0.016   Jarque-Bera (JB):                8.665\n",
            "Skew:                           0.366   Prob(JB):                       0.0131\n",
            "Kurtosis:                       3.584   Cond. No.                     3.66e+04\n",
            "==============================================================================\n",
            "\n",
            "Warnings:\n",
            "[1] Standard Errors assume that the covariance matrix of the errors is correctly specified.\n",
            "[2] The condition number is large, 3.66e+04. This might indicate that there are\n",
            "strong multicollinearity or other numerical problems.\n"
          ],
          "name": "stdout"
        }
      ]
    },
    {
      "cell_type": "markdown",
      "metadata": {
        "id": "SRwiXBAwVJ6l"
      },
      "source": [
        "**Task 2 - Test**"
      ]
    },
    {
      "cell_type": "code",
      "metadata": {
        "deletable": false,
        "editable": false,
        "nbgrader": {
          "cell_type": "code",
          "checksum": "3b71214fd963d7c539592f1836f1ad6d",
          "grade": true,
          "grade_id": "cell-100a97e8d1184783",
          "locked": true,
          "points": 2,
          "schema_version": 3,
          "solution": false,
          "task": false
        },
        "id": "-Zn6eNaVVJ6l"
      },
      "source": [
        "# Task 2 - Test\n",
        "\n",
        "# Hidden tests - you will see the results when you submit to Canvas"
      ],
      "execution_count": 5,
      "outputs": []
    },
    {
      "cell_type": "markdown",
      "metadata": {
        "id": "4eJsXuRLxKrz"
      },
      "source": [
        "**Task 3** - Formulate the statistical model\n",
        "\n",
        "Using the model parameters returned above, you will now write out the statistical model as a linear equation. Remember, we are predicting brain weight from head size.\n",
        "\n",
        "* write your equation below, with LaTeX fomatting\n",
        "* write your equation in Python\n",
        "    * assign the dependent variable to `y_hat`\n",
        "    * assign the independent variable to `x` with a value of `4000`\n",
        "    * write out your slope and intercept terms as floats (you don't need to use the variables you created earlier)"
      ]
    },
    {
      "cell_type": "code",
      "metadata": {
        "deletable": false,
        "nbgrader": {
          "cell_type": "code",
          "checksum": "edf398f0af75f4435506adf3cfe51280",
          "grade": false,
          "grade_id": "cell-1ddf887e0e3e603e",
          "locked": false,
          "schema_version": 3,
          "solution": true,
          "task": false
        },
        "colab": {
          "base_uri": "https://localhost:8080/"
        },
        "id": "o7a3SK9vVJ6l",
        "outputId": "ba2f3dea-fef7-48cc-bed0-263a91c090cc"
      },
      "source": [
        "# Task 3\n",
        "\n",
        "y_hat = intercept + slope*4000\n",
        "print(y_hat)"
      ],
      "execution_count": 6,
      "outputs": [
        {
          "output_type": "stream",
          "text": [
            "1379.2907790070387\n"
          ],
          "name": "stdout"
        }
      ]
    },
    {
      "cell_type": "markdown",
      "metadata": {
        "id": "T6iJQQK_VJ6l"
      },
      "source": [
        "**Task 3 - Test**"
      ]
    },
    {
      "cell_type": "code",
      "metadata": {
        "deletable": false,
        "editable": false,
        "nbgrader": {
          "cell_type": "code",
          "checksum": "45fdcd9337e153556de1c902da9ba23a",
          "grade": true,
          "grade_id": "cell-f73a4aaf70997ef3",
          "locked": true,
          "points": 1,
          "schema_version": 3,
          "solution": false,
          "task": false
        },
        "id": "CNS6FZ73VJ6m"
      },
      "source": [
        "# Task 3 - Test\n",
        "\n",
        "# Hidden tests - you will see the results when you submit to Canvas"
      ],
      "execution_count": 7,
      "outputs": []
    },
    {
      "cell_type": "markdown",
      "metadata": {
        "id": "GI170a6-o6hx"
      },
      "source": [
        "**Task 4** - Statistical parameters\n",
        "\n",
        "Now that we have fit a model, we're going to pull out the statistical parameters.\n",
        "\n",
        "* assign the standard error to the variable `std_err`\n",
        "* assign the value of the t-statistics to the variable `t_stat`\n",
        "* assign the p-value for the slope to the variable `p_slope`\n",
        "\n",
        "**Assign values out to the 1/1000 place (for example, `777.555`)**"
      ]
    },
    {
      "cell_type": "code",
      "metadata": {
        "deletable": false,
        "nbgrader": {
          "cell_type": "code",
          "checksum": "1c302f7ab0ba8bcdbf244beb526b6def",
          "grade": false,
          "grade_id": "cell-0088cec3b26fca73",
          "locked": false,
          "schema_version": 3,
          "solution": true,
          "task": false
        },
        "id": "MOSUkK8FVJ6m"
      },
      "source": [
        "# Task 4\n",
        "\n",
        "std_err = 0.013\n",
        "t_stat = 20.409\n",
        "p_slope = 0.000"
      ],
      "execution_count": 8,
      "outputs": []
    },
    {
      "cell_type": "markdown",
      "metadata": {
        "id": "U4yPNnDYVJ6n"
      },
      "source": [
        "**Task 4 - Test**"
      ]
    },
    {
      "cell_type": "code",
      "metadata": {
        "deletable": false,
        "editable": false,
        "nbgrader": {
          "cell_type": "code",
          "checksum": "68dd5d0c7825688e3987309b8fb8f1d9",
          "grade": true,
          "grade_id": "cell-3b6f76045e89854a",
          "locked": true,
          "points": 1,
          "schema_version": 3,
          "solution": false,
          "task": false
        },
        "id": "rTgL4Pf0VJ6n"
      },
      "source": [
        "# Task 4 - Test\n",
        "\n",
        "# Hidden tests - you will see the results when you submit to Canvas"
      ],
      "execution_count": 9,
      "outputs": []
    },
    {
      "cell_type": "markdown",
      "metadata": {
        "id": "N_1Es6J1pla_"
      },
      "source": [
        "**Task 5** - Hypothesis Test (written answer)\n",
        "\n",
        "Conduct your hypothesis test and determine if head size is statistically significantly associated with brain weight at the alpha = 0.05 level.\n",
        "\n",
        "because p = 0.000 <0.05, we are 95% confident that there is an association between head size and brain weight in the population\n"
      ]
    },
    {
      "cell_type": "markdown",
      "metadata": {
        "id": "55FQEaZup0xi"
      },
      "source": [
        "**Task 6** - Hypothesis Test for the intercept? (written answer)\n",
        "\n",
        "Should you conduct a hypothesis test for the intercept term?  Why or why not?\n",
        "\n",
        "No, because, the intercept corresponds to a head size of 0, which doesn't make sense and isn't in our data set\n"
      ]
    },
    {
      "cell_type": "markdown",
      "metadata": {
        "id": "3gr8OoX8qpqY"
      },
      "source": [
        "**Task 7** - Confidence Interval\n",
        "\n",
        "Calculate the 95% confidence interval for your slope term. Use your model summary to find these values. Assign them values out to the 1/1000 place (for example, `ci_low = 0.345`)\n",
        "\n",
        "* assign the lower interval value to the variable `ci_low`\n",
        "* assign the upper interval value to the variable `ci_upper`\n",
        "\n",
        "Then, interpret this confidence interval in terms of how we expect brain weight to change when we **change head size by one cubic cm**.\n",
        "\n",
        "* assign the lower value of brain size to `brain_low`\n",
        "* assign the upper value of brain size to `brain_upper`\n"
      ]
    },
    {
      "cell_type": "code",
      "metadata": {
        "deletable": false,
        "nbgrader": {
          "cell_type": "code",
          "checksum": "b009c81176b625520da858eff227eb22",
          "grade": false,
          "grade_id": "cell-cebcd0240ee16185",
          "locked": false,
          "schema_version": 3,
          "solution": true,
          "task": false
        },
        "id": "rxBHYVy2VJ6n"
      },
      "source": [
        "# Task 7\n",
        "\n",
        "ci_low = 0.238\n",
        "ci_upper = 0.289\n",
        "brain_low = ci_low\n",
        "brain_upper = ci_upper"
      ],
      "execution_count": 10,
      "outputs": []
    },
    {
      "cell_type": "markdown",
      "metadata": {
        "id": "SkylZA2qVJ6n"
      },
      "source": [
        "**Task 7 - Test**"
      ]
    },
    {
      "cell_type": "code",
      "metadata": {
        "deletable": false,
        "editable": false,
        "nbgrader": {
          "cell_type": "code",
          "checksum": "5143db47ffc7293d4f787f86b2af1206",
          "grade": true,
          "grade_id": "cell-9a0563abb4c16599",
          "locked": true,
          "points": 1,
          "schema_version": 3,
          "solution": false,
          "task": false
        },
        "id": "4uD3WIkYVJ6o"
      },
      "source": [
        "# Task 7 - Test\n",
        "\n",
        "# Hidden tests - you will see the results when you submit to Canvas"
      ],
      "execution_count": 11,
      "outputs": []
    },
    {
      "cell_type": "markdown",
      "metadata": {
        "id": "12WjHAT91iBl"
      },
      "source": [
        "**Task 8** - Plot confidence intervals\n",
        "\n",
        "Plot the confidence limits on both the slope and intercept terms with a shaded area around our regression line. The easiest way to do this is using `seaborn` with the `ci` parameter set to the confidence level you want (the default is `ci=95`). This plot will not be autograded."
      ]
    },
    {
      "cell_type": "code",
      "metadata": {
        "colab": {
          "base_uri": "https://localhost:8080/",
          "height": 279
        },
        "deletable": false,
        "id": "onUkdEAiTK19",
        "nbgrader": {
          "cell_type": "code",
          "checksum": "10680982d6895a6e567c7f3bdda6a096",
          "grade": false,
          "grade_id": "cell-be916b022e3948d5",
          "locked": false,
          "schema_version": 3,
          "solution": true,
          "task": false
        },
        "outputId": "33cbcf30-b723-4516-80a8-16f6f2fc2b1a"
      },
      "source": [
        "# Task 8\n",
        "import seaborn as sns\n",
        "\n",
        "ax = sns.regplot(x = \"Head\", y=\"Brain\", data=df, ci = 95)"
      ],
      "execution_count": 13,
      "outputs": [
        {
          "output_type": "display_data",
          "data": {
            "image/png": "[encoded data removed]",
            "text/plain": [
              "<Figure size 432x288 with 1 Axes>"
            ]
          },
          "metadata": {
            "tags": [],
            "needs_background": "light"
          }
        }
      ]
    },
    {
      "cell_type": "markdown",
      "metadata": {
        "id": "P6g6wHkNS2qB"
      },
      "source": [
        "**Task 9** - Correlation (short answer)\n",
        "\n",
        "Does it seem plausible that larger head size causes greater brain weight?  Or is it possible that something else causes differences in both of those factors?\n",
        "\n",
        "seem very plausible that headsize is a major factor for brain weight becuase the upper and lower bounds on the model is square in the middle of the scatter plot with good p-values\n",
        "\n"
      ]
    },
    {
      "cell_type": "markdown",
      "metadata": {
        "id": "DHNJ5vpJCGSf"
      },
      "source": [
        "## Part B\n",
        "\n",
        "### Sleep Data\n",
        "\n",
        "Use the following information to answer Tasks 9 - 16 in the rest of this project:\n",
        "\n",
        "Researchers recorded data on sleep duration as well as a set of ecological and constitutional variables for a selection of mammal species. This data is available in the Sleep.csv dataset; the URL is provided below. \n",
        "\n",
        "(*Source: Allison, T. and Cicchetti, D. (1976), \"Sleep in Mammals: Ecological and Constitutional Correlates\",  Science, November 12, vol. 194, pp. 732-734.*)\n",
        "\n",
        "**Data Dictionary:**\n",
        "\n",
        "| Variable Name |            Description           |                                                                 Details                                                                 |              |   |\n",
        "|:-------------:|:--------------------------------:|:---------------------------------------------------------------------------------------------------------------------------------------:|--------------|---|\n",
        "| Animal        |            Animal name           |                                                            Character [string]                                                           |    |   |\n",
        "| Body          |            Body weight           |                                                               Numeric [kg]                                                              |       |   |\n",
        "| Brain         |           Brain weight           |                                                               Numeric [g]                                                               |  |   |\n",
        "| SWsleep       | Slow wave (“non-dreaming”) sleep | Numeric [hours]                                                                                                                         |              |   |\n",
        "| Parasleep     | Paradoxical (“dreaming”) sleep   | Numeric [hours]                                                                                                                         |              |   |\n",
        "| Totsleep      | Total sleep                      | Numeric [hours]                                                                                                                         |              |   |\n",
        "| Life          | Maximum life expectancy          | Numeric [years]                                                                                                                         |              |   |\n",
        "| Gest          | Gestation time                   | Numeric [days]                                                                                                                          |              |   |\n",
        "| Pred          | Predation index                  | Numeric [1 – 5] 1 = least likely to be preyed upon, 5 = most likely to be preyed upon                                                   |              |   |\n",
        "| Exposure      | Sleep exposure index             | Numeric [1 – 5] 1 = least amount of exposure during sleep (mammal sleeps indoors or in a den), 5 = most amount of exposure during sleep |              |   |\n",
        "| Danger        | Overall danger index             | Numeric [ 1 – 5] 1 = least amount of danger from other animals, 5 = most amount of danger from other animals                            |              |   |\n",
        "\n"
      ]
    },
    {
      "cell_type": "markdown",
      "metadata": {
        "id": "P4_h4pRJVJ6p"
      },
      "source": [
        "**Task 10**\n",
        "\n",
        "Before we can look at the data, we need to load in the data. The URL has been provided.\n",
        "\n",
        "* load in the CSV file as a DataFrame and assign it to the variable `df_sleep`\n",
        "* make sure to view the DataFrame!"
      ]
    },
    {
      "cell_type": "code",
      "metadata": {
        "deletable": false,
        "nbgrader": {
          "cell_type": "code",
          "checksum": "16d4d87f220faadb12962f1fdbf6134e",
          "grade": false,
          "grade_id": "cell-8b27985340fda74e",
          "locked": false,
          "schema_version": 3,
          "solution": true,
          "task": false
        },
        "colab": {
          "base_uri": "https://localhost:8080/",
          "height": 195
        },
        "id": "BVTnpSm0VJ6p",
        "outputId": "2086e828-43b7-4f6d-c24e-54a48716ea8c"
      },
      "source": [
        "# Task 10\n",
        "\n",
        "data_url_2 = 'https://raw.githubusercontent.com/LambdaSchool/data-science-practice-datasets/main/unit_1/Sleep/Sleep.csv'\n",
        "\n",
        "df_sleep = pd.read_csv(data_url_2)\n",
        "\n",
        "# Print out your DataFrame\n",
        "df_sleep.head()"
      ],
      "execution_count": 14,
      "outputs": [
        {
          "output_type": "execute_result",
          "data": {
            "text/html": [
              "<div>\n",
              "<style scoped>\n",
              "    .dataframe tbody tr th:only-of-type {\n",
              "        vertical-align: middle;\n",
              "    }\n",
              "\n",
              "    .dataframe tbody tr th {\n",
              "        vertical-align: top;\n",
              "    }\n",
              "\n",
              "    .dataframe thead th {\n",
              "        text-align: right;\n",
              "    }\n",
              "</style>\n",
              "<table border=\"1\" class=\"dataframe\">\n",
              "  <thead>\n",
              "    <tr style=\"text-align: right;\">\n",
              "      <th></th>\n",
              "      <th>Animal</th>\n",
              "      <th>Body</th>\n",
              "      <th>Brain</th>\n",
              "      <th>SWsleep</th>\n",
              "      <th>Parasleep</th>\n",
              "      <th>Totsleep</th>\n",
              "      <th>Life</th>\n",
              "      <th>Gest</th>\n",
              "      <th>Pred</th>\n",
              "      <th>Exposure</th>\n",
              "      <th>Danger</th>\n",
              "    </tr>\n",
              "  </thead>\n",
              "  <tbody>\n",
              "    <tr>\n",
              "      <th>0</th>\n",
              "      <td>African_giant_pouched_rat</td>\n",
              "      <td>1.000</td>\n",
              "      <td>6.6</td>\n",
              "      <td>6.3</td>\n",
              "      <td>2.0</td>\n",
              "      <td>8.3</td>\n",
              "      <td>4.5</td>\n",
              "      <td>42.0</td>\n",
              "      <td>3</td>\n",
              "      <td>1</td>\n",
              "      <td>3</td>\n",
              "    </tr>\n",
              "    <tr>\n",
              "      <th>1</th>\n",
              "      <td>Asian_elephant</td>\n",
              "      <td>2547.000</td>\n",
              "      <td>4603.0</td>\n",
              "      <td>2.1</td>\n",
              "      <td>1.8</td>\n",
              "      <td>3.9</td>\n",
              "      <td>69.0</td>\n",
              "      <td>624.0</td>\n",
              "      <td>3</td>\n",
              "      <td>5</td>\n",
              "      <td>4</td>\n",
              "    </tr>\n",
              "    <tr>\n",
              "      <th>2</th>\n",
              "      <td>Baboon</td>\n",
              "      <td>10.550</td>\n",
              "      <td>179.5</td>\n",
              "      <td>9.1</td>\n",
              "      <td>0.7</td>\n",
              "      <td>9.8</td>\n",
              "      <td>27.0</td>\n",
              "      <td>180.0</td>\n",
              "      <td>4</td>\n",
              "      <td>4</td>\n",
              "      <td>4</td>\n",
              "    </tr>\n",
              "    <tr>\n",
              "      <th>3</th>\n",
              "      <td>Big_brown_bat</td>\n",
              "      <td>0.023</td>\n",
              "      <td>0.3</td>\n",
              "      <td>15.8</td>\n",
              "      <td>3.9</td>\n",
              "      <td>19.7</td>\n",
              "      <td>19.0</td>\n",
              "      <td>35.0</td>\n",
              "      <td>1</td>\n",
              "      <td>1</td>\n",
              "      <td>1</td>\n",
              "    </tr>\n",
              "    <tr>\n",
              "      <th>4</th>\n",
              "      <td>Brazilian_tapir</td>\n",
              "      <td>160.000</td>\n",
              "      <td>169.0</td>\n",
              "      <td>5.2</td>\n",
              "      <td>1.0</td>\n",
              "      <td>6.2</td>\n",
              "      <td>30.4</td>\n",
              "      <td>392.0</td>\n",
              "      <td>4</td>\n",
              "      <td>5</td>\n",
              "      <td>4</td>\n",
              "    </tr>\n",
              "  </tbody>\n",
              "</table>\n",
              "</div>"
            ],
            "text/plain": [
              "                      Animal      Body   Brain  ...  Pred  Exposure  Danger\n",
              "0  African_giant_pouched_rat     1.000     6.6  ...     3         1       3\n",
              "1             Asian_elephant  2547.000  4603.0  ...     3         5       4\n",
              "2                     Baboon    10.550   179.5  ...     4         4       4\n",
              "3              Big_brown_bat     0.023     0.3  ...     1         1       1\n",
              "4            Brazilian_tapir   160.000   169.0  ...     4         5       4\n",
              "\n",
              "[5 rows x 11 columns]"
            ]
          },
          "metadata": {
            "tags": []
          },
          "execution_count": 14
        }
      ]
    },
    {
      "cell_type": "markdown",
      "metadata": {
        "id": "pbIOSjtDVJ6p"
      },
      "source": [
        "**Task 10 - Test**"
      ]
    },
    {
      "cell_type": "code",
      "metadata": {
        "deletable": false,
        "editable": false,
        "nbgrader": {
          "cell_type": "code",
          "checksum": "0796e38f153823ecdd78ee408987ac99",
          "grade": true,
          "grade_id": "cell-728b04417127d100",
          "locked": true,
          "points": 1,
          "schema_version": 3,
          "solution": false,
          "task": false
        },
        "id": "uRzI5zXEVJ6p"
      },
      "source": [
        "# Task 10 - Test\n",
        "\n",
        "assert isinstance(df_sleep, pd.DataFrame), 'Have you created a DataFrame named `df_sleep`?'\n",
        "assert len(df_sleep) == 42\n"
      ],
      "execution_count": 15,
      "outputs": []
    },
    {
      "cell_type": "markdown",
      "metadata": {
        "id": "XXgWAA5HJQiL"
      },
      "source": [
        "**Task 11** - Plot to check for linearity\n",
        "\n",
        "Plot the relationship between *gestation time* and time spent in *dreaming sleep*. This plot will not be autograded.\n",
        "\n",
        "* you can use `seaborn` for your plot, with the `regplot()`\n",
        "* include the regression line but turn off the confidence interval (`ci=None`)\n",
        "\n",
        "Describe the relationship between the two variables you plotted below.\n",
        "\n",
        "ANSWER:"
      ]
    },
    {
      "cell_type": "code",
      "metadata": {
        "colab": {
          "base_uri": "https://localhost:8080/",
          "height": 279
        },
        "deletable": false,
        "id": "wJzQvGZSC7Qd",
        "nbgrader": {
          "cell_type": "code",
          "checksum": "3dc2ce2fffa49365b058199d728e5b55",
          "grade": false,
          "grade_id": "cell-6b9a56b997acc63d",
          "locked": false,
          "schema_version": 3,
          "solution": true,
          "task": false
        },
        "outputId": "d3560272-4f50-4ce1-b6f2-204f18b47be3"
      },
      "source": [
        "# Task 11\n",
        "\n",
        "import seaborn as sns\n",
        "\n",
        "ax = sns.regplot(x = 'Gest', y = 'Totsleep', data = df_sleep, ci = None)"
      ],
      "execution_count": 16,
      "outputs": [
        {
          "output_type": "display_data",
          "data": {
            "image/png": "[encoded data removed]",
            "text/plain": [
              "<Figure size 432x288 with 1 Axes>"
            ]
          },
          "metadata": {
            "tags": [],
            "needs_background": "light"
          }
        }
      ]
    },
    {
      "cell_type": "markdown",
      "metadata": {
        "id": "rCvDBL8ryeeH"
      },
      "source": [
        "**Task 12** - Transform a variable\n",
        "\n",
        "Let's try something new: taking the log of a variable to transform it. Then we'll look at the relationship between the log of that variable and the other variable (which will remain the same)\n",
        "\n",
        "* Create a new variable with the log of gestational time and add it as a column to `df_sleep` with the name `log_gest` \n",
        "\n",
        "*Hint: use the natural log `np.log()`*"
      ]
    },
    {
      "cell_type": "code",
      "metadata": {
        "colab": {
          "base_uri": "https://localhost:8080/",
          "height": 195
        },
        "deletable": false,
        "id": "rjlHxOvrQCex",
        "nbgrader": {
          "cell_type": "code",
          "checksum": "e93c84f0c86357a17e654aeabf6968af",
          "grade": false,
          "grade_id": "cell-d811349ababa8892",
          "locked": false,
          "schema_version": 3,
          "solution": true,
          "task": false
        },
        "outputId": "004236f4-0dd1-452a-ed57-dadda4b3f23e"
      },
      "source": [
        "# Task 12\n",
        "\n",
        "import numpy as np\n",
        "\n",
        "df_sleep['log_gest'] = df_sleep['Gest'].apply(np.log)\n",
        "\n",
        "# Look at your new column\n",
        "df_sleep.head()"
      ],
      "execution_count": 23,
      "outputs": [
        {
          "output_type": "execute_result",
          "data": {
            "text/html": [
              "<div>\n",
              "<style scoped>\n",
              "    .dataframe tbody tr th:only-of-type {\n",
              "        vertical-align: middle;\n",
              "    }\n",
              "\n",
              "    .dataframe tbody tr th {\n",
              "        vertical-align: top;\n",
              "    }\n",
              "\n",
              "    .dataframe thead th {\n",
              "        text-align: right;\n",
              "    }\n",
              "</style>\n",
              "<table border=\"1\" class=\"dataframe\">\n",
              "  <thead>\n",
              "    <tr style=\"text-align: right;\">\n",
              "      <th></th>\n",
              "      <th>Animal</th>\n",
              "      <th>Body</th>\n",
              "      <th>Brain</th>\n",
              "      <th>SWsleep</th>\n",
              "      <th>Parasleep</th>\n",
              "      <th>Totsleep</th>\n",
              "      <th>Life</th>\n",
              "      <th>Gest</th>\n",
              "      <th>Pred</th>\n",
              "      <th>Exposure</th>\n",
              "      <th>Danger</th>\n",
              "      <th>log_gest</th>\n",
              "    </tr>\n",
              "  </thead>\n",
              "  <tbody>\n",
              "    <tr>\n",
              "      <th>0</th>\n",
              "      <td>African_giant_pouched_rat</td>\n",
              "      <td>1.000</td>\n",
              "      <td>6.6</td>\n",
              "      <td>6.3</td>\n",
              "      <td>2.0</td>\n",
              "      <td>8.3</td>\n",
              "      <td>4.5</td>\n",
              "      <td>42.0</td>\n",
              "      <td>3</td>\n",
              "      <td>1</td>\n",
              "      <td>3</td>\n",
              "      <td>3.737670</td>\n",
              "    </tr>\n",
              "    <tr>\n",
              "      <th>1</th>\n",
              "      <td>Asian_elephant</td>\n",
              "      <td>2547.000</td>\n",
              "      <td>4603.0</td>\n",
              "      <td>2.1</td>\n",
              "      <td>1.8</td>\n",
              "      <td>3.9</td>\n",
              "      <td>69.0</td>\n",
              "      <td>624.0</td>\n",
              "      <td>3</td>\n",
              "      <td>5</td>\n",
              "      <td>4</td>\n",
              "      <td>6.436150</td>\n",
              "    </tr>\n",
              "    <tr>\n",
              "      <th>2</th>\n",
              "      <td>Baboon</td>\n",
              "      <td>10.550</td>\n",
              "      <td>179.5</td>\n",
              "      <td>9.1</td>\n",
              "      <td>0.7</td>\n",
              "      <td>9.8</td>\n",
              "      <td>27.0</td>\n",
              "      <td>180.0</td>\n",
              "      <td>4</td>\n",
              "      <td>4</td>\n",
              "      <td>4</td>\n",
              "      <td>5.192957</td>\n",
              "    </tr>\n",
              "    <tr>\n",
              "      <th>3</th>\n",
              "      <td>Big_brown_bat</td>\n",
              "      <td>0.023</td>\n",
              "      <td>0.3</td>\n",
              "      <td>15.8</td>\n",
              "      <td>3.9</td>\n",
              "      <td>19.7</td>\n",
              "      <td>19.0</td>\n",
              "      <td>35.0</td>\n",
              "      <td>1</td>\n",
              "      <td>1</td>\n",
              "      <td>1</td>\n",
              "      <td>3.555348</td>\n",
              "    </tr>\n",
              "    <tr>\n",
              "      <th>4</th>\n",
              "      <td>Brazilian_tapir</td>\n",
              "      <td>160.000</td>\n",
              "      <td>169.0</td>\n",
              "      <td>5.2</td>\n",
              "      <td>1.0</td>\n",
              "      <td>6.2</td>\n",
              "      <td>30.4</td>\n",
              "      <td>392.0</td>\n",
              "      <td>4</td>\n",
              "      <td>5</td>\n",
              "      <td>4</td>\n",
              "      <td>5.971262</td>\n",
              "    </tr>\n",
              "  </tbody>\n",
              "</table>\n",
              "</div>"
            ],
            "text/plain": [
              "                      Animal      Body   Brain  ...  Exposure  Danger  log_gest\n",
              "0  African_giant_pouched_rat     1.000     6.6  ...         1       3  3.737670\n",
              "1             Asian_elephant  2547.000  4603.0  ...         5       4  6.436150\n",
              "2                     Baboon    10.550   179.5  ...         4       4  5.192957\n",
              "3              Big_brown_bat     0.023     0.3  ...         1       1  3.555348\n",
              "4            Brazilian_tapir   160.000   169.0  ...         5       4  5.971262\n",
              "\n",
              "[5 rows x 12 columns]"
            ]
          },
          "metadata": {
            "tags": []
          },
          "execution_count": 23
        }
      ]
    },
    {
      "cell_type": "markdown",
      "metadata": {
        "id": "HdHsBf8XVJ6q"
      },
      "source": [
        "**Task 12 - Test**"
      ]
    },
    {
      "cell_type": "code",
      "metadata": {
        "deletable": false,
        "editable": false,
        "nbgrader": {
          "cell_type": "code",
          "checksum": "4c6049eee153ea91e11f043b16550f03",
          "grade": true,
          "grade_id": "cell-94ac629ec8bbe280",
          "locked": true,
          "points": 1,
          "schema_version": 3,
          "solution": false,
          "task": false
        },
        "id": "ogo1pbMDVJ6q"
      },
      "source": [
        "# Task 12 - Test\n",
        "\n",
        "# Hidden tests - you will see the results when you submit to Canvas"
      ],
      "execution_count": 24,
      "outputs": []
    },
    {
      "cell_type": "markdown",
      "metadata": {
        "id": "ppBfvbaLylEc"
      },
      "source": [
        "**Task 13** - Plot a new relationship!\n",
        "\n",
        "Plot the relationship of the log of *gestational time* and *dreaming sleep*. This plot will not be autograded.\n",
        "\n",
        "* you can use `seaborn` for your plot, with the `regplot()`\n",
        "* include the regression line but turn off the confidence interval (`ci=None`)\n",
        "\n",
        "Describe the relationship of the two variables you just plotted.\n",
        "\n",
        "ANSWER:"
      ]
    },
    {
      "cell_type": "code",
      "metadata": {
        "colab": {
          "base_uri": "https://localhost:8080/",
          "height": 280
        },
        "deletable": false,
        "id": "PnonESKmCJJR",
        "nbgrader": {
          "cell_type": "code",
          "checksum": "ec76bcd5964cb0cf7e9642f8789a6985",
          "grade": false,
          "grade_id": "cell-9d2382c494a9b756",
          "locked": false,
          "schema_version": 3,
          "solution": true,
          "task": false
        },
        "outputId": "74610570-5341-4823-cbdf-168d2401601d"
      },
      "source": [
        "# Task 13\n",
        "\n",
        "ax = sns.regplot(x = 'log_gest', y = 'Totsleep', data = df_sleep, ci = None)\n"
      ],
      "execution_count": 26,
      "outputs": [
        {
          "output_type": "display_data",
          "data": {
            "image/png": "[encoded data removed]",
            "text/plain": [
              "<Figure size 432x288 with 1 Axes>"
            ]
          },
          "metadata": {
            "tags": [],
            "needs_background": "light"
          }
        }
      ]
    },
    {
      "cell_type": "markdown",
      "metadata": {
        "id": "XNGUTN6KyzMJ"
      },
      "source": [
        "**Task 14** - Model the sleep data\n",
        "\n",
        "Next, create a model the relationship of the log of gestation time and dreaming sleep using the `statsmodels.formula.api`. Remember that the `statsmodels` import was made earlier.\n",
        "\n",
        "* Fit a OLS model and assign it to the variable `model_sleep` (remember to enter the model in the format Y ~ X).\n",
        "* Print out your model summary.\n",
        "* Answer the questions below to interpret your results."
      ]
    },
    {
      "cell_type": "code",
      "metadata": {
        "colab": {
          "base_uri": "https://localhost:8080/"
        },
        "deletable": false,
        "id": "NcLmKYKIzBHA",
        "nbgrader": {
          "cell_type": "code",
          "checksum": "675742e192d0a4912875750792fdd02a",
          "grade": false,
          "grade_id": "cell-a08ff1b8439746f9",
          "locked": false,
          "schema_version": 3,
          "solution": true,
          "task": false
        },
        "outputId": "f0c8412f-60aa-4e79-9498-e432be6a1368"
      },
      "source": [
        "# Task 14\n",
        "\n",
        "model_sleep = ols('Totsleep ~ log_gest', data=df_sleep).fit()\n",
        "\n",
        "\n",
        "\n",
        "# Print the model summary\n",
        "print(model_sleep.summary())"
      ],
      "execution_count": 27,
      "outputs": [
        {
          "output_type": "stream",
          "text": [
            "                            OLS Regression Results                            \n",
            "==============================================================================\n",
            "Dep. Variable:               Totsleep   R-squared:                       0.407\n",
            "Model:                            OLS   Adj. R-squared:                  0.392\n",
            "Method:                 Least Squares   F-statistic:                     27.41\n",
            "Date:                Tue, 15 Dec 2020   Prob (F-statistic):           5.57e-06\n",
            "Time:                        22:18:56   Log-Likelihood:                -113.21\n",
            "No. Observations:                  42   AIC:                             230.4\n",
            "Df Residuals:                      40   BIC:                             233.9\n",
            "Df Model:                           1                                         \n",
            "Covariance Type:            nonrobust                                         \n",
            "==============================================================================\n",
            "                 coef    std err          t      P>|t|      [0.025      0.975]\n",
            "------------------------------------------------------------------------------\n",
            "Intercept     23.0208      2.431      9.469      0.000      18.107      27.934\n",
            "log_gest      -2.8296      0.540     -5.236      0.000      -3.922      -1.737\n",
            "==============================================================================\n",
            "Omnibus:                        2.728   Durbin-Watson:                   1.300\n",
            "Prob(Omnibus):                  0.256   Jarque-Bera (JB):                2.442\n",
            "Skew:                           0.578   Prob(JB):                        0.295\n",
            "Kurtosis:                       2.756   Cond. No.                         20.2\n",
            "==============================================================================\n",
            "\n",
            "Warnings:\n",
            "[1] Standard Errors assume that the covariance matrix of the errors is correctly specified.\n"
          ],
          "name": "stdout"
        }
      ]
    },
    {
      "cell_type": "markdown",
      "metadata": {
        "id": "ItYcF6bxVJ6r"
      },
      "source": [
        "**Task 14**"
      ]
    },
    {
      "cell_type": "code",
      "metadata": {
        "deletable": false,
        "editable": false,
        "nbgrader": {
          "cell_type": "code",
          "checksum": "9f97a76cb4ac08d981121583d7778b5d",
          "grade": true,
          "grade_id": "cell-dbf3e67eb3732036",
          "locked": true,
          "points": 1,
          "schema_version": 3,
          "solution": false,
          "task": false
        },
        "id": "39ojYzpvVJ6r"
      },
      "source": [
        "# Task 14 - Test\n",
        "\n",
        "# Hidden tests - you will see the results when you submit to Canvas"
      ],
      "execution_count": 28,
      "outputs": []
    },
    {
      "cell_type": "markdown",
      "metadata": {
        "id": "ILG89x64zLq2"
      },
      "source": [
        "**Task 15** - Statistical significance of sleep data (short answer)\n",
        "\n",
        "Is the *log of gestational time* statistically significantly associated with time spent in *dreaming sleep* at the alpha = 0.05 level?\n",
        "\n",
        "Yes"
      ]
    },
    {
      "cell_type": "markdown",
      "metadata": {
        "id": "zxYnHyZSzil_"
      },
      "source": [
        "**Task 16** - Predicting dreaming sleep from gestation time\n",
        "\n",
        "The final task! Using the model we just created, predict the amount of dreaming sleep for a mammal that gestates her young for 262 days (this is the gestation time).\n",
        "\n",
        "* Assign the gestation time to the variable `x_predict`. This variable will be an integer.\n",
        "* Take the log of `x_predict` and assign it to the variable `ln_x_predict`. THis variable will be a float.\n",
        "* Use the `slope` and `intercept` variables from your `model_sleep` to complete the calculation. \n",
        "* Your result should be a float and assigned to the variable `sleep_predict`."
      ]
    },
    {
      "cell_type": "code",
      "metadata": {
        "colab": {
          "base_uri": "https://localhost:8080/"
        },
        "deletable": false,
        "id": "xM63vMkEXxcc",
        "nbgrader": {
          "cell_type": "code",
          "checksum": "a0d593434c2df317cf85452bbf8a933a",
          "grade": false,
          "grade_id": "cell-b516863ad6936f72",
          "locked": false,
          "schema_version": 3,
          "solution": true,
          "task": false
        },
        "outputId": "c63387d9-b9f0-426d-f34a-c9eca7ac948e"
      },
      "source": [
        "# Task 16\n",
        "\n",
        "x_predict = 262\n",
        "ln_x_predict = np.log(x_predict)\n",
        "sleep_predict = 23.0208 + (-2.8296)*ln_x_predict\n",
        "\n",
        "# Print out the log of x and the predicted sleep value\n",
        "print('ln 262 = ', ln_x_predict)\n",
        "print('Predicted dreaming sleep = ', sleep_predict)"
      ],
      "execution_count": 31,
      "outputs": [
        {
          "output_type": "stream",
          "text": [
            "ln 262 =  5.568344503761097\n",
            "Predicted dreaming sleep =  7.264612392157602\n"
          ],
          "name": "stdout"
        }
      ]
    },
    {
      "cell_type": "markdown",
      "metadata": {
        "id": "-zhHycUdVJ6s"
      },
      "source": [
        "**Task 16 Test**"
      ]
    },
    {
      "cell_type": "code",
      "metadata": {
        "deletable": false,
        "editable": false,
        "nbgrader": {
          "cell_type": "code",
          "checksum": "c77907e08d3a0431a1e6434dd83ebe2e",
          "grade": true,
          "grade_id": "cell-772974b44d216ef9",
          "locked": true,
          "points": 1,
          "schema_version": 3,
          "solution": false,
          "task": false
        },
        "id": "0s8SjgqPVJ6s"
      },
      "source": [
        "# Task 16\n",
        "\n",
        "assert ln_x_predict == np.log(x_predict), 'Did you use the correct log calculation?'\n",
        "\n"
      ],
      "execution_count": 32,
      "outputs": []
    },
    {
      "cell_type": "markdown",
      "metadata": {
        "id": "dPPufgidTQSM"
      },
      "source": [
        "## Portfolio Project Assignment\n",
        "\n",
        "Write your blog post.  Complete everything - code, visualizations, etc."
      ]
    }
  ]
}